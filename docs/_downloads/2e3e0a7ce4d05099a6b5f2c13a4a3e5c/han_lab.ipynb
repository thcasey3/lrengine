{
  "cells": [
    {
      "cell_type": "code",
      "execution_count": null,
      "metadata": {
        "collapsed": false
      },
      "outputs": [],
      "source": [
        "%matplotlib inline"
      ]
    },
    {
      "cell_type": "markdown",
      "metadata": {},
      "source": [
        "\n# Han Lab ODNP data processing\n\nAn example user-defined function for processing Han Lab ODNP data with the DNPLab package.\n"
      ]
    },
    {
      "cell_type": "markdown",
      "metadata": {},
      "source": [
        "Import DNPLab and any other packages that may be needed for the functions,\n\n"
      ]
    },
    {
      "cell_type": "code",
      "execution_count": null,
      "metadata": {
        "collapsed": false
      },
      "outputs": [],
      "source": [
        "import dnplab as dnp\nimport numpy as np\nimport os\nimport copy"
      ]
    },
    {
      "cell_type": "markdown",
      "metadata": {},
      "source": [
        "Function from hydrationGUI of DNPLab for optimizing center of integration window,\n\n"
      ]
    },
    {
      "cell_type": "code",
      "execution_count": null,
      "metadata": {
        "collapsed": false
      },
      "outputs": [],
      "source": [
        "def optCenter(ws, width, starting_center, phase):\n    optcenter_workspace = copy.deepcopy(ws)\n    intgrl_array = []\n    indx = range(starting_center - 50, starting_center + 50)\n    optcenter_workspace[\"proc\"].values *= np.exp(-1j * phase)\n    for k in indx:\n        dnp.dnpTools.integrate(\n            optcenter_workspace,\n            integrate_center=k,\n            integrate_width=width,\n        )\n        if len(optcenter_workspace[\"integrals\"].values) > 1:\n            intgrl_array.append(sum(abs(optcenter_workspace[\"integrals\"].real.values)))\n        else:\n            intgrl_array.append(abs(optcenter_workspace[\"integrals\"].real.values[-1]))\n\n    cent = np.argmax(intgrl_array)\n\n    return indx[cent]"
      ]
    },
    {
      "cell_type": "markdown",
      "metadata": {},
      "source": [
        "Function from hydrationGUI of DNPLab for optimizing phase,\n\n"
      ]
    },
    {
      "cell_type": "code",
      "execution_count": null,
      "metadata": {
        "collapsed": false
      },
      "outputs": [],
      "source": [
        "def optPhase(ws, width, starting_center, starting_phase):\n    temp_data = ws[\"proc\"][\n        \"f2\", (starting_center - width, starting_center + width)\n    ].values\n\n    phases = np.linspace(\n        starting_phase - np.pi / 2, starting_phase + np.pi / 2, 100\n    ).reshape(1, -1)\n    rotated_data = (temp_data.reshape(-1, 1)) * np.exp(-1j * phases)\n    bestindex = np.argmax(\n        (np.real(rotated_data) ** 2).sum(axis=0)\n        / (np.imag(rotated_data) ** 2).sum(axis=0)\n    )\n    starting_phase = phases[0, bestindex]\n\n    if ws[\"proc\"].ndim == 2:\n\n        phases = np.linspace(\n            starting_phase - np.pi / 4,\n            starting_phase + np.pi / 4,\n            100,\n        )\n        imag_sum = []\n        for indx, k in enumerate(phases):\n            ws_rot = copy.deepcopy(ws)\n            ws_rot[\"proc\"].values *= np.exp(-1j * k)\n            dnp.dnpTools.integrate(\n                ws_rot,\n                integrate_center=starting_center,\n                integrate_width=width * 2,\n            )\n            imag_sum.append(np.sum(abs(ws_rot[\"proc\"].imag.values * -1j)))\n\n        starting_phase = phases[np.argmin(imag_sum)]\n\n    base_data1 = ws[\"proc\"][\n        \"f2\",\n        (\n            (starting_center - width * 4),\n            (starting_center - width / 2),\n        ),\n    ].values\n    base_data2 = ws[\"proc\"][\n        \"f2\",\n        (\n            (starting_center + width / 2),\n            (starting_center + width * 4),\n        ),\n    ].values\n    base_data = np.concatenate((base_data2, base_data1))\n\n    phases = np.linspace(\n        starting_phase - np.pi / 4, starting_phase + np.pi / 4, 100\n    ).reshape(1, -1)\n    rotated_data = (base_data.reshape(-1, 1)) * np.exp(-1j * phases)\n    bestindex = np.argmin(abs(np.real(rotated_data)).sum(axis=0))\n\n    return phases[0, bestindex]"
      ]
    },
    {
      "cell_type": "markdown",
      "metadata": {},
      "source": [
        "Function from hydrationGUI of DNPLab for optimizing integration window width,\n\n"
      ]
    },
    {
      "cell_type": "code",
      "execution_count": null,
      "metadata": {
        "collapsed": false
      },
      "outputs": [],
      "source": [
        "def optWidth(ws, starting_width, center, phase):\n    ydata = abs(\n        np.real(\n            ws[\"proc\"][\n                \"f2\",\n                (\n                    center - starting_width / 2,\n                    center + starting_width / 2,\n                ),\n            ].values\n            * np.exp(-1j * phase)\n        )\n    )\n    xdata = np.ravel(\n        ws[\"proc\"][\n            \"f2\",\n            (\n                center - starting_width / 2,\n                center + starting_width / 2,\n            ),\n        ].coords[\"f2\"]\n    )\n    qual_factor = 1 / 3\n    if ws[\"proc\"].ndim == 1:\n        one_third = np.where(ydata > max(ydata) * qual_factor)\n        one_third = np.ravel(one_third)\n\n        center = optCenter(\n            ws, (xdata[one_third[-1]] - xdata[one_third[0]]), center, phase\n        )\n\n        return center, (xdata[one_third[-1]] - xdata[one_third[0]])\n    else:\n        min_x = []\n        max_x = []\n        for k in range(0, ydata.shape[1]):\n            one_third = np.where(ydata[:, k] > max(ydata[:, k]) * qual_factor)\n            one_third = np.ravel(one_third)\n            min_x.append(xdata[one_third[0]])\n            max_x.append(xdata[one_third[-1]])\n\n        center = optCenter(ws, max(max_x) - min(min_x), center, phase)\n\n        return center, max(max_x) - min(min_x)"
      ]
    },
    {
      "cell_type": "markdown",
      "metadata": {},
      "source": [
        "Auto-process function from hydrationGUI. The function returns zeros where errors are encountered.\n\n"
      ]
    },
    {
      "cell_type": "code",
      "execution_count": null,
      "metadata": {
        "collapsed": false
      },
      "outputs": [],
      "source": [
        "def calc_odnp(path, hyd):\n\n    print(\"Working on: \" + path)\n\n    folder_structure_p0 = 5\n    folder_structure_enh = range(6, 27)\n    folder_structure_T1 = range(28, 33)\n    folder_structure_T10 = 304\n\n    E_power_List = dnp.dnpIO.cnsi.get_powers(\n        path,\n        \"power\",\n        folder_structure_enh,\n    )\n    Epowers = np.add(E_power_List, 21.9992)\n    Epowers = np.divide(Epowers, 10)\n    Epowers = np.power(10, Epowers)\n    Epowers = np.multiply(1e-3, Epowers)\n\n    T1_power_List = dnp.dnpIO.cnsi.get_powers(\n        path,\n        \"t1_powers\",\n        folder_structure_T1,\n    )\n    T1powers = np.add(T1_power_List, 21.9992)\n    T1powers = np.divide(T1powers, 10)\n    T1powers = np.power(10, T1powers)\n    T1powers = np.multiply(1e-3, T1powers)\n\n    folder_structure_all = []\n    folder_structure_all.append(folder_structure_p0)\n    for k in folder_structure_enh:\n        folder_structure_all.append(k)\n    for k in folder_structure_T1:\n        folder_structure_all.append(k)\n    folder_structure_all.append(folder_structure_T10)\n\n    Ep = []\n    T1 = []\n    for _, folder_num in enumerate(folder_structure_all):\n\n        folder_path = os.path.join(path, str(folder_num))\n\n        data = dnp.dnpImport.load(folder_path)\n        ws = dnp.create_workspace(\"proc\", data)\n\n        dnp.dnpNMR.remove_offset(ws)\n        dnp.dnpNMR.window(\n            ws,\n            linewidth=10,\n        )\n        dnp.dnpNMR.fourier_transform(ws, zero_fill_factor=2)\n\n        if ws[\"proc\"].ndim == 2:\n            dnp.dnpNMR.align(ws)\n            max_index = np.argmax(abs(ws[\"proc\"].values), axis=0)[-1]\n        elif ws[\"proc\"].ndim == 1:\n            max_index = np.argmax(abs(ws[\"proc\"].values), axis=0)\n\n        starting_width = 10\n        starting_center = round(ws[\"proc\"].coords[\"f2\"][max_index])\n        starting_phase = np.arctan(\n            np.sum(ws[\"proc\"].imag.values) / np.sum(ws[\"proc\"].real.values)\n        )\n\n        starting_phase = optPhase(ws, starting_width, starting_center, starting_phase)\n\n        center = optCenter(\n            ws,\n            starting_width,\n            starting_center,\n            starting_phase,\n        )\n\n        phase = optPhase(\n            ws,\n            starting_width,\n            center,\n            starting_phase,\n        )\n\n        width = starting_width\n        # center, width = optWidth(ws, starting_width, center, phase)\n\n        ws[\"proc\"].values *= np.exp(-1j * phase)\n\n        dnp.dnpTools.integrate(\n            ws,\n            integrate_center=center,\n            integrate_width=width,\n        )\n\n        if len(ws[\"integrals\"].values) > 1:\n            dnp.dnpFit.exponential_fit(ws, type=\"T1\")\n            if folder_num == 304:\n                hyd[\"T10\"] = ws[\"fit\"].attrs[\"T1\"]\n            else:\n                T1.append(ws[\"fit\"].attrs[\"T1\"])\n        else:\n            if folder_num == 5:\n                p0 = ws[\"integrals\"].real.values[0]\n            else:\n                Ep.append(ws[\"integrals\"].real.values[0] / p0)\n\n    hyd.update(\n        {\n            \"E\": np.array(Ep),\n            \"E_power\": np.array(Epowers),\n            \"T1\": np.array(T1),\n            \"T1_power\": np.array(T1powers),\n        }\n    )\n\n    hydra = dnp.create_workspace()\n    hydra.add(\"hydration_inputs\", hyd)\n\n    try:\n        hydration_results = dnp.dnpHydration.hydration(hydra)\n    except:\n        hydration_results = {\"ksigma\": 0, \"tcorr\": 0}\n\n    print(\"Found ksigma = \" + str(hydration_results[\"ksigma\"]))\n    print(\"Found tcorr = \" + str(hydration_results[\"tcorr\"]))\n\n    return hydration_results[\"tcorr\"], hydration_results[\"ksigma\"]"
      ]
    }
  ],
  "metadata": {
    "kernelspec": {
      "display_name": "Python 3",
      "language": "python",
      "name": "python3"
    },
    "language_info": {
      "codemirror_mode": {
        "name": "ipython",
        "version": 3
      },
      "file_extension": ".py",
      "mimetype": "text/x-python",
      "name": "python",
      "nbconvert_exporter": "python",
      "pygments_lexer": "ipython3",
      "version": "3.7.7"
    }
  },
  "nbformat": 4,
  "nbformat_minor": 0
}