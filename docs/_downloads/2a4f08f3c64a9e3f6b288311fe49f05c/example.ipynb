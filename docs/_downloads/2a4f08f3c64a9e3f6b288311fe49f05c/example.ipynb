{
  "cells": [
    {
      "cell_type": "code",
      "execution_count": null,
      "metadata": {
        "collapsed": false
      },
      "outputs": [],
      "source": [
        "%matplotlib inline"
      ]
    },
    {
      "cell_type": "markdown",
      "metadata": {},
      "source": [
        "\n# lrengine Template\n\nThis Template serves as an example layout for a script using lrengine.\n"
      ]
    },
    {
      "cell_type": "markdown",
      "metadata": {},
      "source": [
        "Import lrengine and any other packages that may be needed for your function,\n\n"
      ]
    },
    {
      "cell_type": "code",
      "execution_count": null,
      "metadata": {
        "collapsed": false
      },
      "outputs": [],
      "source": [
        "import lrengine as lr\n\n# import numpy as np\n# etc."
      ]
    },
    {
      "cell_type": "markdown",
      "metadata": {},
      "source": [
        "Set the path to a parent directory,\n\n"
      ]
    },
    {
      "cell_type": "code",
      "execution_count": null,
      "metadata": {
        "collapsed": false
      },
      "outputs": [],
      "source": [
        "path = \"../path to parent directory\""
      ]
    },
    {
      "cell_type": "markdown",
      "metadata": {},
      "source": [
        "Define a function that accepts the parent directory and any additional arguments in the form of a dictionary and\nreturns a list of outputs. The list must have a single value for each member of the list and have a **'len()'**\nequal to the list of **'classifiers'** given during the instantiation of the object below.\n\n"
      ]
    },
    {
      "cell_type": "code",
      "execution_count": null,
      "metadata": {
        "collapsed": false
      },
      "outputs": [],
      "source": [
        "def function_handle(directory, args_dict):\n\n    # insert code that acts on each file or sub-directory of directory and makes two floats or ints\n    # output1 =\n    # output2 =\n\n    return [output1, output2]"
      ]
    },
    {
      "cell_type": "markdown",
      "metadata": {},
      "source": [
        "Instantiate the **'lrobject'**,\n\n"
      ]
    },
    {
      "cell_type": "code",
      "execution_count": null,
      "metadata": {
        "collapsed": false
      },
      "outputs": [],
      "source": [
        "lrobject = lr.start(\n    path,\n    patterns=[],  # enter any patterns in the file or folder names to use as classifiers, e.g. [\"sample1\", \"sample2\"]\n    skip=[],  # enter any sub-strings in the names of file folders that should be skipped, e.g. [\"blank_run\"]\n    classifiers=[\n        \"output1\",\n        \"output2\",\n    ],  # these are the column names corresponding to the function outputs\n    function=function_handle,  # complete the function above\n    function_args={},  # enter any arguments required by function_handle, e.g. {\"skiprows\": 0}\n    date_format=\"YYYYMMDD\",  # (optional) give the format of any date strings in the file or folder names\n)"
      ]
    },
    {
      "cell_type": "markdown",
      "metadata": {},
      "source": [
        "Pass the **'lrobject'** to the user defined function to add **'frame'** to the **'lrobject'**,\nthen print the **'head()'** of **'frame'**,\n\n"
      ]
    },
    {
      "cell_type": "code",
      "execution_count": null,
      "metadata": {
        "collapsed": false
      },
      "outputs": [],
      "source": [
        "lrobject.drive()\nprint(lrobject.frame.head())"
      ]
    },
    {
      "cell_type": "markdown",
      "metadata": {},
      "source": [
        "Add to **'lrobject'** a dictionary that is a map of the parent directory,\n\n"
      ]
    },
    {
      "cell_type": "code",
      "execution_count": null,
      "metadata": {
        "collapsed": false
      },
      "outputs": [],
      "source": [
        "lrobject.map_directory()"
      ]
    },
    {
      "cell_type": "markdown",
      "metadata": {},
      "source": [
        "Create a seaborn.scatterplot correlating the two outputs. Replace **'None'** for hue with date_delta if it exists in\nyour **'frame'**, or maybe with a third output if you have more than two. The **'seaborn_args'** dictionary should have\nkeys that are the arguments that would be given to **seaborn.scatterplot** and any allowed values according to seaborn\ndocs,\n\n"
      ]
    },
    {
      "cell_type": "code",
      "execution_count": null,
      "metadata": {
        "collapsed": false
      },
      "outputs": [],
      "source": [
        "lrobject.sea(seaborn_args={\"x\": \"output1\", \"y\": \"output2\", \"hue\": None, \"s\": 100})"
      ]
    }
  ],
  "metadata": {
    "kernelspec": {
      "display_name": "Python 3",
      "language": "python",
      "name": "python3"
    },
    "language_info": {
      "codemirror_mode": {
        "name": "ipython",
        "version": 3
      },
      "file_extension": ".py",
      "mimetype": "text/x-python",
      "name": "python",
      "nbconvert_exporter": "python",
      "pygments_lexer": "ipython3",
      "version": "3.7.7"
    }
  },
  "nbformat": 4,
  "nbformat_minor": 0
}