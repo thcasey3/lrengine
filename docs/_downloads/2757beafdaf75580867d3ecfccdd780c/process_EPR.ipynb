{
  "cells": [
    {
      "cell_type": "code",
      "execution_count": null,
      "metadata": {
        "collapsed": false
      },
      "outputs": [],
      "source": [
        "%matplotlib inline"
      ]
    },
    {
      "cell_type": "markdown",
      "metadata": {},
      "source": [
        "\nan example of a user defined function for processing EPR data with DNPLab\n"
      ]
    },
    {
      "cell_type": "code",
      "execution_count": null,
      "metadata": {
        "collapsed": false
      },
      "outputs": [],
      "source": [
        "import dnplab as dnp\nimport numpy as np\n\n\ndef proc_epr(path, args):\n\n    try:\n        data = dnp.dnpImport.load(path)\n        if len(data.dims) == 1 and \"frequency\" in data.attrs.keys():\n            return [\n                np.argmax(data.values, axis=0) / len(data.values),\n                data.attrs[\"frequency\"],\n            ]\n        else:\n            return [0, 0]\n    except:\n        return [0, 0]"
      ]
    }
  ],
  "metadata": {
    "kernelspec": {
      "display_name": "Python 3",
      "language": "python",
      "name": "python3"
    },
    "language_info": {
      "codemirror_mode": {
        "name": "ipython",
        "version": 3
      },
      "file_extension": ".py",
      "mimetype": "text/x-python",
      "name": "python",
      "nbconvert_exporter": "python",
      "pygments_lexer": "ipython3",
      "version": "3.7.7"
    }
  },
  "nbformat": 4,
  "nbformat_minor": 0
}