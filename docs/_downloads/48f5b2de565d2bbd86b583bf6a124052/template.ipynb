{
  "cells": [
    {
      "cell_type": "code",
      "execution_count": null,
      "metadata": {
        "collapsed": false
      },
      "outputs": [],
      "source": [
        "%matplotlib inline"
      ]
    },
    {
      "cell_type": "markdown",
      "metadata": {},
      "source": [
        "\n# lrengine Template\n\nThis Template serves as an example layout for a script using lrengine.\n"
      ]
    },
    {
      "cell_type": "markdown",
      "metadata": {},
      "source": [
        "Import lrengine and any other packages that may be needed for your function,\n\n"
      ]
    },
    {
      "cell_type": "code",
      "execution_count": null,
      "metadata": {
        "collapsed": false
      },
      "outputs": [],
      "source": [
        "import lrengine as lr\n\n# import numpy as np\n# etc."
      ]
    },
    {
      "cell_type": "markdown",
      "metadata": {},
      "source": [
        "Set the path to a parent directory,\n\n"
      ]
    },
    {
      "cell_type": "code",
      "execution_count": null,
      "metadata": {
        "collapsed": false
      },
      "outputs": [],
      "source": [
        "path = \"../path/to/parent/directory\""
      ]
    },
    {
      "cell_type": "markdown",
      "metadata": {},
      "source": [
        "Define a function that accepts the parent directory and any additional arguments in the form of a dictionary and\nreturns a list of outputs. The list must have a single value for each member of the list and have **len()**\nequal to the list of **'classifiers'** given during the creation of the **start** object below.\n\n"
      ]
    },
    {
      "cell_type": "code",
      "execution_count": null,
      "metadata": {
        "collapsed": false
      },
      "outputs": [],
      "source": [
        "def function_handle(directory, args_dict):\n\n    # insert code that acts on each file or sub-directory and makes output(s)\n    # output1 =\n    # output2 =\n\n    return [output1, output2]  # make sure outputs are in a list\n    # len() outputs list must = len() classifiers list"
      ]
    },
    {
      "cell_type": "markdown",
      "metadata": {},
      "source": [
        "Create the **start** object,\n\n"
      ]
    },
    {
      "cell_type": "code",
      "execution_count": null,
      "metadata": {
        "collapsed": false
      },
      "outputs": [],
      "source": [
        "lrobject = lr.start(\n    path,\n    patterns=[],  # any patterns in the file or folder names to use as classifiers\n    skip=[],  # any sub-strings in the names of file folders that should be skipped\n    classifiers=[\n        \"output1\",\n        \"output2\",\n    ],  # the column names corresponding to the function outputs\n    function=function_handle,  # complete the function above\n    function_args={},  # any arguments required by function_handle\n    date_format=\"YYYYMMDD\",  # format of any date strings in the file or folder names\n)"
      ]
    },
    {
      "cell_type": "markdown",
      "metadata": {},
      "source": [
        "Pass the **start** object to the user defined function to add classifiers to the **.frame**,\nthen print the **.head()** of **.frame**,\n\n"
      ]
    },
    {
      "cell_type": "code",
      "execution_count": null,
      "metadata": {
        "collapsed": false
      },
      "outputs": [],
      "source": [
        "lrobject.drive()\nprint(lrobject.frame.head())"
      ]
    },
    {
      "cell_type": "markdown",
      "metadata": {},
      "source": [
        "Add a dictionary to the **start** object that is a map of the parent directory,\n\n"
      ]
    },
    {
      "cell_type": "code",
      "execution_count": null,
      "metadata": {
        "collapsed": false
      },
      "outputs": [],
      "source": [
        "lrobject.map_directory()"
      ]
    },
    {
      "cell_type": "markdown",
      "metadata": {},
      "source": [
        "Create a seaborn.relplot correlating the two outputs. Replace **'None'** for hue with date_delta if it exists in\nyour **.frame**, or maybe with a third output if you have more than two. The **'seaborn_args'** dictionary should have\nkeys that are the arguments that would be given to **seaborn.relplot** and any allowed values according to **seaborn.relplot**\ndocumentation,\n\n"
      ]
    },
    {
      "cell_type": "code",
      "execution_count": null,
      "metadata": {
        "collapsed": false
      },
      "outputs": [],
      "source": [
        "lrobject.sea(seaborn_args={\"x\": \"output1\", \"y\": \"output2\", \"hue\": None, \"s\": 100})"
      ]
    }
  ],
  "metadata": {
    "kernelspec": {
      "display_name": "Python 3",
      "language": "python",
      "name": "python3"
    },
    "language_info": {
      "codemirror_mode": {
        "name": "ipython",
        "version": 3
      },
      "file_extension": ".py",
      "mimetype": "text/x-python",
      "name": "python",
      "nbconvert_exporter": "python",
      "pygments_lexer": "ipython3",
      "version": "3.7.7"
    }
  },
  "nbformat": 4,
  "nbformat_minor": 0
}