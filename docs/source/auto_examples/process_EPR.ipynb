{
  "cells": [
    {
      "cell_type": "code",
      "execution_count": null,
      "metadata": {
        "collapsed": false
      },
      "outputs": [],
      "source": [
        "%matplotlib inline"
      ]
    },
    {
      "cell_type": "markdown",
      "metadata": {},
      "source": [
        "\n# EPR data processing\n\nAn example user-defined function for processing EPR data with the DNPLab package.\n"
      ]
    },
    {
      "cell_type": "markdown",
      "metadata": {},
      "source": [
        "For the function below the call would look something like,\n\n"
      ]
    },
    {
      "cell_type": "code",
      "execution_count": null,
      "metadata": {
        "collapsed": false
      },
      "outputs": [],
      "source": [
        "\"\"\"\nlrobject = lr.start(\n    parent_directory,\n    skip=[\".DSC\", \".YGF\", \".par\"],  # otherwise duplicates\n    classifiers=[\"max_loc\", \"frequency\"],\n    function=process_EPR.proc_epr,\n    function_args={},\n)\n\nlrobject.drive()\n\"\"\"\n# parent_directory contains Bruker EPR data. Add patterns, skip, date searching, etc.\n# according to the lrengine docs. The function_args are empty in this case. Since DTA\n# and spc files come with companion DSC, YGF, or par files and DNPLab uses any of these,\n# skip these files to avoid duplicates."
      ]
    },
    {
      "cell_type": "markdown",
      "metadata": {},
      "source": [
        "Import DNPLab and any other packages that may be needed for your function,\n\n"
      ]
    },
    {
      "cell_type": "code",
      "execution_count": null,
      "metadata": {
        "collapsed": false
      },
      "outputs": [],
      "source": [
        "import dnplab as dnp\nimport numpy as np"
      ]
    },
    {
      "cell_type": "markdown",
      "metadata": {},
      "source": [
        "The function accepts a path to an EPR spectrum file and returns the field value where the spectrum is maximum and the frequency. The function returns zeros where errors are encountered.\n\n"
      ]
    },
    {
      "cell_type": "code",
      "execution_count": null,
      "metadata": {
        "collapsed": false
      },
      "outputs": [],
      "source": [
        "def proc_epr(path, args):\n\n    try:\n        data = dnp.dnpImport.load(path)\n        if len(data.dims) == 1 and \"frequency\" in data.attrs.keys():\n            return [\n                np.argmax(data.values, axis=0) / len(data.values),\n                data.attrs[\"frequency\"],\n            ]\n        else:\n            return [0, 0]\n    except:\n        return [0, 0]"
      ]
    }
  ],
  "metadata": {
    "kernelspec": {
      "display_name": "Python 3",
      "language": "python",
      "name": "python3"
    },
    "language_info": {
      "codemirror_mode": {
        "name": "ipython",
        "version": 3
      },
      "file_extension": ".py",
      "mimetype": "text/x-python",
      "name": "python",
      "nbconvert_exporter": "python",
      "pygments_lexer": "ipython3",
      "version": "3.7.7"
    }
  },
  "nbformat": 4,
  "nbformat_minor": 0
}